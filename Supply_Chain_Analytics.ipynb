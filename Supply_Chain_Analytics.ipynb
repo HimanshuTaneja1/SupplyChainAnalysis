{
  "cells": [
    {
      "cell_type": "markdown",
      "metadata": {
        "id": "HWuNiP14K2f5"
      },
      "source": [
        "## Project Description\n",
        "The project provides a real-world dataset focusing on supply chain analytics. As the main data analyst for Just In Time, you will help solve key shipment and inventory management challenges, analyze supply chain inefficiencies, and create insightful dashboards to inform business stakeholders about potential problems and propose structural business improvements.\n",
        "\n",
        "## Objective\n",
        "In this project, my primary focus is on addressing key challenges related to shipment and inventory management within the supply chain. To achieve this goal efficiently, the project has been divided into few objectives:"
      ]
    },
    {
      "cell_type": "markdown",
      "metadata": {
        "id": "1TeVZPm2bM4W"
      },
      "source": [
        "# Data Preparation"
      ]
    },
    {
      "cell_type": "code",
      "execution_count": 1,
      "metadata": {
        "id": "8P2SVZSEZRjr"
      },
      "outputs": [],
      "source": [
        "# import the libraries\n",
        "import pandas as pd\n",
        "import numpy as np"
      ]
    },
    {
      "cell_type": "code",
      "execution_count": 5,
      "metadata": {
        "id": "DVKl60M2Zxi7"
      },
      "outputs": [],
      "source": [
        "# import datasets\n",
        "df_orders = pd.read_csv(\"C:/Users/offic/OneDrive/Desktop/Supply Chain Analytics/orders_and_shipments.csv\",encoding='ISO-8859-1')\n",
        "df_inventory = pd.read_csv('C:/Users/offic/OneDrive/Desktop/Supply Chain Analytics/inventory.csv')\n",
        "df_fulfillment = pd.read_csv('C:/Users/offic/OneDrive/Desktop/Supply Chain Analytics/fulfillment.csv')"
      ]
    },
    {
      "cell_type": "code",
      "execution_count": 6,
      "metadata": {
        "colab": {
          "base_uri": "https://localhost:8080/",
          "height": 377
        },
        "id": "007KSxs7DCTv",
        "outputId": "60a95c62-3429-4e4d-fbf1-ba68ae680d36"
      },
      "outputs": [
        {
          "data": {
            "text/html": [
              "<div>\n",
              "<style scoped>\n",
              "    .dataframe tbody tr th:only-of-type {\n",
              "        vertical-align: middle;\n",
              "    }\n",
              "\n",
              "    .dataframe tbody tr th {\n",
              "        vertical-align: top;\n",
              "    }\n",
              "\n",
              "    .dataframe thead th {\n",
              "        text-align: right;\n",
              "    }\n",
              "</style>\n",
              "<table border=\"1\" class=\"dataframe\">\n",
              "  <thead>\n",
              "    <tr style=\"text-align: right;\">\n",
              "      <th></th>\n",
              "      <th>Order ID</th>\n",
              "      <th>Order Item ID</th>\n",
              "      <th>Order YearMonth</th>\n",
              "      <th>Order Year</th>\n",
              "      <th>Order Month</th>\n",
              "      <th>Order Day</th>\n",
              "      <th>Order Time</th>\n",
              "      <th>Order Quantity</th>\n",
              "      <th>Product Department</th>\n",
              "      <th>Product Category</th>\n",
              "      <th>...</th>\n",
              "      <th>Customer Country</th>\n",
              "      <th>Warehouse Country</th>\n",
              "      <th>Shipment Year</th>\n",
              "      <th>Shipment Month</th>\n",
              "      <th>Shipment Day</th>\n",
              "      <th>Shipment Mode</th>\n",
              "      <th>Shipment Days - Scheduled</th>\n",
              "      <th>Gross Sales</th>\n",
              "      <th>Discount %</th>\n",
              "      <th>Profit</th>\n",
              "    </tr>\n",
              "  </thead>\n",
              "  <tbody>\n",
              "    <tr>\n",
              "      <th>0</th>\n",
              "      <td>3535</td>\n",
              "      <td>8793</td>\n",
              "      <td>201502</td>\n",
              "      <td>2015</td>\n",
              "      <td>2</td>\n",
              "      <td>21</td>\n",
              "      <td>14:07</td>\n",
              "      <td>1</td>\n",
              "      <td>Fan Shop</td>\n",
              "      <td>Fishing</td>\n",
              "      <td>...</td>\n",
              "      <td>Mexico</td>\n",
              "      <td>Puerto Rico</td>\n",
              "      <td>2015</td>\n",
              "      <td>2</td>\n",
              "      <td>27</td>\n",
              "      <td>Standard Class</td>\n",
              "      <td>4</td>\n",
              "      <td>400</td>\n",
              "      <td>0.25</td>\n",
              "      <td>200</td>\n",
              "    </tr>\n",
              "    <tr>\n",
              "      <th>1</th>\n",
              "      <td>4133</td>\n",
              "      <td>10320</td>\n",
              "      <td>201503</td>\n",
              "      <td>2015</td>\n",
              "      <td>3</td>\n",
              "      <td>2</td>\n",
              "      <td>07:37</td>\n",
              "      <td>1</td>\n",
              "      <td>Fan Shop</td>\n",
              "      <td>Fishing</td>\n",
              "      <td>...</td>\n",
              "      <td>Brazil</td>\n",
              "      <td>Puerto Rico</td>\n",
              "      <td>2015</td>\n",
              "      <td>3</td>\n",
              "      <td>6</td>\n",
              "      <td>Standard Class</td>\n",
              "      <td>4</td>\n",
              "      <td>400</td>\n",
              "      <td>0.09</td>\n",
              "      <td>200</td>\n",
              "    </tr>\n",
              "    <tr>\n",
              "      <th>2</th>\n",
              "      <td>7396</td>\n",
              "      <td>18517</td>\n",
              "      <td>201504</td>\n",
              "      <td>2015</td>\n",
              "      <td>4</td>\n",
              "      <td>18</td>\n",
              "      <td>22:47</td>\n",
              "      <td>1</td>\n",
              "      <td>Fan Shop</td>\n",
              "      <td>Fishing</td>\n",
              "      <td>...</td>\n",
              "      <td>Mexico</td>\n",
              "      <td>Puerto Rico</td>\n",
              "      <td>2015</td>\n",
              "      <td>4</td>\n",
              "      <td>20</td>\n",
              "      <td>Standard Class</td>\n",
              "      <td>4</td>\n",
              "      <td>400</td>\n",
              "      <td>0.06</td>\n",
              "      <td>200</td>\n",
              "    </tr>\n",
              "    <tr>\n",
              "      <th>3</th>\n",
              "      <td>11026</td>\n",
              "      <td>27608</td>\n",
              "      <td>201506</td>\n",
              "      <td>2015</td>\n",
              "      <td>6</td>\n",
              "      <td>10</td>\n",
              "      <td>22:32</td>\n",
              "      <td>1</td>\n",
              "      <td>Fan Shop</td>\n",
              "      <td>Fishing</td>\n",
              "      <td>...</td>\n",
              "      <td>Denmark</td>\n",
              "      <td>Puerto Rico</td>\n",
              "      <td>2015</td>\n",
              "      <td>6</td>\n",
              "      <td>12</td>\n",
              "      <td>Standard Class</td>\n",
              "      <td>4</td>\n",
              "      <td>400</td>\n",
              "      <td>0.15</td>\n",
              "      <td>200</td>\n",
              "    </tr>\n",
              "    <tr>\n",
              "      <th>4</th>\n",
              "      <td>11026</td>\n",
              "      <td>27609</td>\n",
              "      <td>201506</td>\n",
              "      <td>2015</td>\n",
              "      <td>6</td>\n",
              "      <td>10</td>\n",
              "      <td>22:32</td>\n",
              "      <td>1</td>\n",
              "      <td>Fan Shop</td>\n",
              "      <td>Fishing</td>\n",
              "      <td>...</td>\n",
              "      <td>Denmark</td>\n",
              "      <td>Puerto Rico</td>\n",
              "      <td>2015</td>\n",
              "      <td>6</td>\n",
              "      <td>12</td>\n",
              "      <td>Standard Class</td>\n",
              "      <td>4</td>\n",
              "      <td>400</td>\n",
              "      <td>0.13</td>\n",
              "      <td>200</td>\n",
              "    </tr>\n",
              "  </tbody>\n",
              "</table>\n",
              "<p>5 rows × 24 columns</p>\n",
              "</div>"
            ],
            "text/plain": [
              "    Order ID    Order Item ID    Order YearMonth    Order Year   \\\n",
              "0        3535             8793             201502          2015   \n",
              "1        4133            10320             201503          2015   \n",
              "2        7396            18517             201504          2015   \n",
              "3       11026            27608             201506          2015   \n",
              "4       11026            27609             201506          2015   \n",
              "\n",
              "    Order Month    Order Day  Order Time  Order Quantity Product Department  \\\n",
              "0              2           21      14:07               1           Fan Shop   \n",
              "1              3            2      07:37               1           Fan Shop   \n",
              "2              4           18      22:47               1           Fan Shop   \n",
              "3              6           10      22:32               1           Fan Shop   \n",
              "4              6           10      22:32               1           Fan Shop   \n",
              "\n",
              "  Product Category  ... Customer Country  Warehouse Country Shipment Year  \\\n",
              "0          Fishing  ...           Mexico        Puerto Rico          2015   \n",
              "1          Fishing  ...           Brazil        Puerto Rico          2015   \n",
              "2          Fishing  ...           Mexico        Puerto Rico          2015   \n",
              "3          Fishing  ...          Denmark        Puerto Rico          2015   \n",
              "4          Fishing  ...          Denmark        Puerto Rico          2015   \n",
              "\n",
              "  Shipment Month Shipment Day   Shipment Mode   Shipment Days - Scheduled   \\\n",
              "0              2           27  Standard Class                            4   \n",
              "1              3            6  Standard Class                            4   \n",
              "2              4           20  Standard Class                            4   \n",
              "3              6           12  Standard Class                            4   \n",
              "4              6           12  Standard Class                            4   \n",
              "\n",
              "    Gross Sales    Discount %   Profit   \n",
              "0            400          0.25      200  \n",
              "1            400          0.09      200  \n",
              "2            400          0.06      200  \n",
              "3            400          0.15      200  \n",
              "4            400          0.13      200  \n",
              "\n",
              "[5 rows x 24 columns]"
            ]
          },
          "execution_count": 6,
          "metadata": {},
          "output_type": "execute_result"
        }
      ],
      "source": [
        "df_orders.head()"
      ]
    },
    {
      "cell_type": "code",
      "execution_count": 7,
      "metadata": {
        "colab": {
          "base_uri": "https://localhost:8080/",
          "height": 206
        },
        "id": "I5jZ20_fC27K",
        "outputId": "f5c3d975-94c7-4daf-e911-8b6a1f5115e5"
      },
      "outputs": [
        {
          "data": {
            "text/html": [
              "<div>\n",
              "<style scoped>\n",
              "    .dataframe tbody tr th:only-of-type {\n",
              "        vertical-align: middle;\n",
              "    }\n",
              "\n",
              "    .dataframe tbody tr th {\n",
              "        vertical-align: top;\n",
              "    }\n",
              "\n",
              "    .dataframe thead th {\n",
              "        text-align: right;\n",
              "    }\n",
              "</style>\n",
              "<table border=\"1\" class=\"dataframe\">\n",
              "  <thead>\n",
              "    <tr style=\"text-align: right;\">\n",
              "      <th></th>\n",
              "      <th>Product Name</th>\n",
              "      <th>Year Month</th>\n",
              "      <th>Warehouse Inventory</th>\n",
              "      <th>Inventory Cost Per Unit</th>\n",
              "    </tr>\n",
              "  </thead>\n",
              "  <tbody>\n",
              "    <tr>\n",
              "      <th>0</th>\n",
              "      <td>Perfect Fitness Perfect Rip Deck</td>\n",
              "      <td>201712</td>\n",
              "      <td>0</td>\n",
              "      <td>0.69517</td>\n",
              "    </tr>\n",
              "    <tr>\n",
              "      <th>1</th>\n",
              "      <td>Nike Men's Dri-FIT Victory Golf Polo</td>\n",
              "      <td>201712</td>\n",
              "      <td>2</td>\n",
              "      <td>1.29291</td>\n",
              "    </tr>\n",
              "    <tr>\n",
              "      <th>2</th>\n",
              "      <td>O'Brien Men's Neoprene Life Vest</td>\n",
              "      <td>201712</td>\n",
              "      <td>0</td>\n",
              "      <td>0.56531</td>\n",
              "    </tr>\n",
              "    <tr>\n",
              "      <th>3</th>\n",
              "      <td>Nike Men's Free 5.0+ Running Shoe</td>\n",
              "      <td>201712</td>\n",
              "      <td>1</td>\n",
              "      <td>1.26321</td>\n",
              "    </tr>\n",
              "    <tr>\n",
              "      <th>4</th>\n",
              "      <td>Under Armour Girls' Toddler Spine Surge Runni</td>\n",
              "      <td>201712</td>\n",
              "      <td>0</td>\n",
              "      <td>1.47648</td>\n",
              "    </tr>\n",
              "  </tbody>\n",
              "</table>\n",
              "</div>"
            ],
            "text/plain": [
              "                                    Product Name   Year Month   \\\n",
              "0               Perfect Fitness Perfect Rip Deck        201712   \n",
              "1           Nike Men's Dri-FIT Victory Golf Polo        201712   \n",
              "2               O'Brien Men's Neoprene Life Vest        201712   \n",
              "3              Nike Men's Free 5.0+ Running Shoe        201712   \n",
              "4  Under Armour Girls' Toddler Spine Surge Runni        201712   \n",
              "\n",
              "    Warehouse Inventory   Inventory Cost Per Unit  \n",
              "0                      0                  0.69517  \n",
              "1                      2                  1.29291  \n",
              "2                      0                  0.56531  \n",
              "3                      1                  1.26321  \n",
              "4                      0                  1.47648  "
            ]
          },
          "execution_count": 7,
          "metadata": {},
          "output_type": "execute_result"
        }
      ],
      "source": [
        "df_inventory.head()"
      ]
    },
    {
      "cell_type": "code",
      "execution_count": 8,
      "metadata": {
        "colab": {
          "base_uri": "https://localhost:8080/",
          "height": 206
        },
        "id": "g9kzILWyC6Z7",
        "outputId": "7358bf11-9a03-4c60-f2c8-a0ee246d7a23"
      },
      "outputs": [
        {
          "data": {
            "text/html": [
              "<div>\n",
              "<style scoped>\n",
              "    .dataframe tbody tr th:only-of-type {\n",
              "        vertical-align: middle;\n",
              "    }\n",
              "\n",
              "    .dataframe tbody tr th {\n",
              "        vertical-align: top;\n",
              "    }\n",
              "\n",
              "    .dataframe thead th {\n",
              "        text-align: right;\n",
              "    }\n",
              "</style>\n",
              "<table border=\"1\" class=\"dataframe\">\n",
              "  <thead>\n",
              "    <tr style=\"text-align: right;\">\n",
              "      <th></th>\n",
              "      <th>Product Name</th>\n",
              "      <th>Warehouse Order Fulfillment (days)</th>\n",
              "    </tr>\n",
              "  </thead>\n",
              "  <tbody>\n",
              "    <tr>\n",
              "      <th>0</th>\n",
              "      <td>Perfect Fitness Perfect Rip Deck</td>\n",
              "      <td>8.3</td>\n",
              "    </tr>\n",
              "    <tr>\n",
              "      <th>1</th>\n",
              "      <td>Nike Men's Dri-FIT Victory Golf Polo</td>\n",
              "      <td>6.6</td>\n",
              "    </tr>\n",
              "    <tr>\n",
              "      <th>2</th>\n",
              "      <td>O'Brien Men's Neoprene Life Vest</td>\n",
              "      <td>5.5</td>\n",
              "    </tr>\n",
              "    <tr>\n",
              "      <th>3</th>\n",
              "      <td>Nike Men's Free 5.0+ Running Shoe</td>\n",
              "      <td>9.4</td>\n",
              "    </tr>\n",
              "    <tr>\n",
              "      <th>4</th>\n",
              "      <td>Under Armour Girls' Toddler Spine Surge Runni</td>\n",
              "      <td>6.3</td>\n",
              "    </tr>\n",
              "  </tbody>\n",
              "</table>\n",
              "</div>"
            ],
            "text/plain": [
              "                                    Product Name  \\\n",
              "0               Perfect Fitness Perfect Rip Deck   \n",
              "1           Nike Men's Dri-FIT Victory Golf Polo   \n",
              "2               O'Brien Men's Neoprene Life Vest   \n",
              "3              Nike Men's Free 5.0+ Running Shoe   \n",
              "4  Under Armour Girls' Toddler Spine Surge Runni   \n",
              "\n",
              "    Warehouse Order Fulfillment (days)   \n",
              "0                                   8.3  \n",
              "1                                   6.6  \n",
              "2                                   5.5  \n",
              "3                                   9.4  \n",
              "4                                   6.3  "
            ]
          },
          "execution_count": 8,
          "metadata": {},
          "output_type": "execute_result"
        }
      ],
      "source": [
        "df_fulfillment.head()"
      ]
    },
    {
      "cell_type": "markdown",
      "metadata": {
        "id": "IkGbz8942Ibr"
      },
      "source": [
        "The dataset provides three data tables including order_and_shipment, inventory and fulfillment. After examining the data fields, I noticed that the dataset generally represents the following key information\n",
        "\n",
        "* Customer: General information about customers including identifiers and addresses\n",
        "\n",
        "* Order: Information about the order including date of order, product and quantity ordered, order value\n",
        "\n",
        "* Shipment: Shipping information including shipping date, shipping mode\n",
        "\n",
        "* Product: Specific information about the ordered item including product name, product category, product department\n",
        "\n",
        "* Warehouse Inventory: Information on inventory management for each product name including monthly inventory, warehouse location, storage costs, order fulfillment"
      ]
    },
    {
      "cell_type": "markdown",
      "metadata": {
        "id": "e9aP1k8FbQYh"
      },
      "source": [
        "# Data Cleaning"
      ]
    },
    {
      "cell_type": "markdown",
      "metadata": {
        "id": "l-JSmTVlbZqz"
      },
      "source": [
        "## Handling Missing Value"
      ]
    },
    {
      "cell_type": "code",
      "execution_count": 9,
      "metadata": {
        "colab": {
          "base_uri": "https://localhost:8080/"
        },
        "id": "ACBZbcGUbR_S",
        "outputId": "bc5c0893-ca8c-4ad7-d58c-ea9f47e846ae"
      },
      "outputs": [
        {
          "data": {
            "text/plain": [
              " Order ID                      0\n",
              " Order Item ID                 0\n",
              " Order YearMonth               0\n",
              " Order Year                    0\n",
              " Order Month                   0\n",
              " Order Day                     0\n",
              "Order Time                     0\n",
              "Order Quantity                 0\n",
              "Product Department             0\n",
              "Product Category               0\n",
              "Product Name                   0\n",
              " Customer ID                   0\n",
              "Customer Market                0\n",
              "Customer Region                0\n",
              "Customer Country               0\n",
              "Warehouse Country              0\n",
              "Shipment Year                  0\n",
              "Shipment Month                 0\n",
              "Shipment Day                   0\n",
              "Shipment Mode                  0\n",
              " Shipment Days - Scheduled     0\n",
              " Gross Sales                   0\n",
              " Discount %                    0\n",
              " Profit                        0\n",
              "dtype: int64"
            ]
          },
          "execution_count": 9,
          "metadata": {},
          "output_type": "execute_result"
        }
      ],
      "source": [
        "df_orders.isna().sum()"
      ]
    },
    {
      "cell_type": "code",
      "execution_count": 10,
      "metadata": {
        "colab": {
          "base_uri": "https://localhost:8080/"
        },
        "id": "AbV1Qb1GbpSF",
        "outputId": "2e8ec046-8716-452f-cc44-8c44ac1a06ee"
      },
      "outputs": [
        {
          "data": {
            "text/plain": [
              "Product Name               0\n",
              " Year Month                0\n",
              " Warehouse Inventory       0\n",
              "Inventory Cost Per Unit    0\n",
              "dtype: int64"
            ]
          },
          "execution_count": 10,
          "metadata": {},
          "output_type": "execute_result"
        }
      ],
      "source": [
        "df_inventory.isna().sum()"
      ]
    },
    {
      "cell_type": "code",
      "execution_count": 11,
      "metadata": {
        "colab": {
          "base_uri": "https://localhost:8080/"
        },
        "id": "BrLYGPqPbuDy",
        "outputId": "9faf0ece-d3f2-4d44-d3a8-599535d36057"
      },
      "outputs": [
        {
          "data": {
            "text/plain": [
              "Product Name                            0\n",
              " Warehouse Order Fulfillment (days)     0\n",
              "dtype: int64"
            ]
          },
          "execution_count": 11,
          "metadata": {},
          "output_type": "execute_result"
        }
      ],
      "source": [
        "df_fulfillment.isna().sum()"
      ]
    },
    {
      "cell_type": "markdown",
      "metadata": {
        "id": "5ISkNfYhclFc"
      },
      "source": [
        "All three datasets do not contain any missing values. So, there is no need to handle missing data imputation."
      ]
    },
    {
      "cell_type": "markdown",
      "metadata": {
        "id": "9H67p-6GuIWk"
      },
      "source": [
        "## Duplicated Data"
      ]
    },
    {
      "cell_type": "code",
      "execution_count": 12,
      "metadata": {
        "colab": {
          "base_uri": "https://localhost:8080/"
        },
        "id": "ea8BLTrOuvbs",
        "outputId": "874bcfcb-3c82-41f8-bf87-d3b2cb333883"
      },
      "outputs": [
        {
          "data": {
            "text/plain": [
              "np.int64(0)"
            ]
          },
          "execution_count": 12,
          "metadata": {},
          "output_type": "execute_result"
        }
      ],
      "source": [
        "df_orders.duplicated().sum()"
      ]
    },
    {
      "cell_type": "code",
      "execution_count": 13,
      "metadata": {
        "colab": {
          "base_uri": "https://localhost:8080/"
        },
        "id": "intdBkDcucxH",
        "outputId": "3ed35b97-30a9-40cb-90ea-b40d27fda8bc"
      },
      "outputs": [
        {
          "data": {
            "text/plain": [
              "np.int64(0)"
            ]
          },
          "execution_count": 13,
          "metadata": {},
          "output_type": "execute_result"
        }
      ],
      "source": [
        "df_inventory.duplicated().sum()"
      ]
    },
    {
      "cell_type": "code",
      "execution_count": 14,
      "metadata": {
        "colab": {
          "base_uri": "https://localhost:8080/"
        },
        "id": "5RfKcWoVu6Hq",
        "outputId": "b1c365f7-53f6-4ae2-efdc-48ba7d2bf328"
      },
      "outputs": [
        {
          "data": {
            "text/plain": [
              "np.int64(0)"
            ]
          },
          "execution_count": 14,
          "metadata": {},
          "output_type": "execute_result"
        }
      ],
      "source": [
        "df_fulfillment.duplicated().sum()"
      ]
    },
    {
      "cell_type": "markdown",
      "metadata": {
        "id": "y5Os5TeVvW94"
      },
      "source": [
        "Moreover, the absence of any duplicate values in all three datasets is also promising. This indicates that the data is fairly clean and ready for analysis."
      ]
    },
    {
      "cell_type": "markdown",
      "metadata": {
        "id": "clsxJa3Kcq_o"
      },
      "source": [
        "# Data Wrangling"
      ]
    },
    {
      "cell_type": "markdown",
      "metadata": {
        "id": "BCGXvUa4piEA"
      },
      "source": [
        "## Leading and Trailing Space"
      ]
    },
    {
      "cell_type": "code",
      "execution_count": 15,
      "metadata": {
        "colab": {
          "base_uri": "https://localhost:8080/"
        },
        "id": "01kvT6UniO1C",
        "outputId": "b21ea21c-7320-443a-e8d3-aa9f59c479df"
      },
      "outputs": [
        {
          "name": "stdout",
          "output_type": "stream",
          "text": [
            "<class 'pandas.core.frame.DataFrame'>\n",
            "RangeIndex: 30871 entries, 0 to 30870\n",
            "Data columns (total 24 columns):\n",
            " #   Column                       Non-Null Count  Dtype \n",
            "---  ------                       --------------  ----- \n",
            " 0    Order ID                    30871 non-null  int64 \n",
            " 1    Order Item ID               30871 non-null  int64 \n",
            " 2    Order YearMonth             30871 non-null  int64 \n",
            " 3    Order Year                  30871 non-null  int64 \n",
            " 4    Order Month                 30871 non-null  int64 \n",
            " 5    Order Day                   30871 non-null  int64 \n",
            " 6   Order Time                   30871 non-null  object\n",
            " 7   Order Quantity               30871 non-null  int64 \n",
            " 8   Product Department           30871 non-null  object\n",
            " 9   Product Category             30871 non-null  object\n",
            " 10  Product Name                 30871 non-null  object\n",
            " 11   Customer ID                 30871 non-null  int64 \n",
            " 12  Customer Market              30871 non-null  object\n",
            " 13  Customer Region              30871 non-null  object\n",
            " 14  Customer Country             30871 non-null  object\n",
            " 15  Warehouse Country            30871 non-null  object\n",
            " 16  Shipment Year                30871 non-null  int64 \n",
            " 17  Shipment Month               30871 non-null  int64 \n",
            " 18  Shipment Day                 30871 non-null  int64 \n",
            " 19  Shipment Mode                30871 non-null  object\n",
            " 20   Shipment Days - Scheduled   30871 non-null  int64 \n",
            " 21   Gross Sales                 30871 non-null  int64 \n",
            " 22   Discount %                  30871 non-null  object\n",
            " 23   Profit                      30871 non-null  int64 \n",
            "dtypes: int64(14), object(10)\n",
            "memory usage: 5.7+ MB\n"
          ]
        }
      ],
      "source": [
        "df_orders.info()"
      ]
    },
    {
      "cell_type": "code",
      "execution_count": 16,
      "metadata": {
        "colab": {
          "base_uri": "https://localhost:8080/"
        },
        "id": "JF_kk5w9OBHx",
        "outputId": "24e046f4-7363-4ea3-e47c-9a23e41a20be"
      },
      "outputs": [
        {
          "name": "stdout",
          "output_type": "stream",
          "text": [
            "<class 'pandas.core.frame.DataFrame'>\n",
            "RangeIndex: 4200 entries, 0 to 4199\n",
            "Data columns (total 4 columns):\n",
            " #   Column                   Non-Null Count  Dtype  \n",
            "---  ------                   --------------  -----  \n",
            " 0   Product Name             4200 non-null   object \n",
            " 1    Year Month              4200 non-null   int64  \n",
            " 2    Warehouse Inventory     4200 non-null   int64  \n",
            " 3   Inventory Cost Per Unit  4200 non-null   float64\n",
            "dtypes: float64(1), int64(2), object(1)\n",
            "memory usage: 131.4+ KB\n"
          ]
        }
      ],
      "source": [
        "df_inventory.info()"
      ]
    },
    {
      "cell_type": "code",
      "execution_count": 17,
      "metadata": {
        "colab": {
          "base_uri": "https://localhost:8080/"
        },
        "id": "LQ15zTHaOFww",
        "outputId": "63ef7013-899d-4e83-f9cf-7c34c329e011"
      },
      "outputs": [
        {
          "name": "stdout",
          "output_type": "stream",
          "text": [
            "<class 'pandas.core.frame.DataFrame'>\n",
            "RangeIndex: 118 entries, 0 to 117\n",
            "Data columns (total 2 columns):\n",
            " #   Column                                Non-Null Count  Dtype  \n",
            "---  ------                                --------------  -----  \n",
            " 0   Product Name                          118 non-null    object \n",
            " 1    Warehouse Order Fulfillment (days)   118 non-null    float64\n",
            "dtypes: float64(1), object(1)\n",
            "memory usage: 2.0+ KB\n"
          ]
        }
      ],
      "source": [
        "df_fulfillment.info()"
      ]
    },
    {
      "cell_type": "markdown",
      "metadata": {
        "id": "LqbQ6WGij_ZP"
      },
      "source": [
        "Upon inspecting the data using `.info()`, it has come to our attention that there are anomalies present in the datasets. Specifically, we have discovered that some columns contain leading or trailing spaces, which are not intended to be part of the column names."
      ]
    },
    {
      "cell_type": "code",
      "execution_count": 18,
      "metadata": {
        "id": "RGVCF3Axihgg"
      },
      "outputs": [],
      "source": [
        "# using strip fn removing unwanted spaces from columns name\n",
        "dataframes = [df_inventory, df_orders, df_fulfillment]\n",
        "\n",
        "for df in dataframes:\n",
        "  df.columns = df.columns.str.strip()"
      ]
    },
    {
      "cell_type": "code",
      "execution_count": 19,
      "metadata": {
        "colab": {
          "base_uri": "https://localhost:8080/"
        },
        "id": "QvKo71V9Ocj3",
        "outputId": "57835e63-6cab-4372-b896-7e4b08cb3283"
      },
      "outputs": [
        {
          "data": {
            "text/plain": [
              "Index(['Order ID', 'Order Item ID', 'Order YearMonth', 'Order Year',\n",
              "       'Order Month', 'Order Day', 'Order Time', 'Order Quantity',\n",
              "       'Product Department', 'Product Category', 'Product Name', 'Customer ID',\n",
              "       'Customer Market', 'Customer Region', 'Customer Country',\n",
              "       'Warehouse Country', 'Shipment Year', 'Shipment Month', 'Shipment Day',\n",
              "       'Shipment Mode', 'Shipment Days - Scheduled', 'Gross Sales',\n",
              "       'Discount %', 'Profit'],\n",
              "      dtype='object')"
            ]
          },
          "execution_count": 19,
          "metadata": {},
          "output_type": "execute_result"
        }
      ],
      "source": [
        "df_orders.columns"
      ]
    },
    {
      "cell_type": "code",
      "execution_count": 20,
      "metadata": {
        "colab": {
          "base_uri": "https://localhost:8080/"
        },
        "id": "I4-sFrZlPAIc",
        "outputId": "0d03d32e-8fb2-4130-a076-3fa63bd83c1b"
      },
      "outputs": [
        {
          "data": {
            "text/plain": [
              "Index(['Product Name', 'Year Month', 'Warehouse Inventory',\n",
              "       'Inventory Cost Per Unit'],\n",
              "      dtype='object')"
            ]
          },
          "execution_count": 20,
          "metadata": {},
          "output_type": "execute_result"
        }
      ],
      "source": [
        "df_inventory.columns"
      ]
    },
    {
      "cell_type": "code",
      "execution_count": 21,
      "metadata": {
        "colab": {
          "base_uri": "https://localhost:8080/"
        },
        "id": "upikotyhPDwr",
        "outputId": "a9212012-43f3-470f-e4f3-3479ee431005"
      },
      "outputs": [
        {
          "data": {
            "text/plain": [
              "Index(['Product Name', 'Warehouse Order Fulfillment (days)'], dtype='object')"
            ]
          },
          "execution_count": 21,
          "metadata": {},
          "output_type": "execute_result"
        }
      ],
      "source": [
        "df_fulfillment.columns"
      ]
    },
    {
      "cell_type": "code",
      "execution_count": 22,
      "metadata": {
        "colab": {
          "base_uri": "https://localhost:8080/"
        },
        "id": "eSBwtK8iFWWi",
        "outputId": "558c3d3d-212c-4ff9-915e-311db5f87ce5"
      },
      "outputs": [
        {
          "data": {
            "text/plain": [
              "Index(['Order ID', 'Order Item ID', 'Order YearMonth', 'Order Year',\n",
              "       'Order Month', 'Order Day', 'Order Time', 'Order Quantity',\n",
              "       'Product Department', 'Product Category', 'Product Name', 'Customer ID',\n",
              "       'Customer Market', 'Customer Region', 'Customer Country',\n",
              "       'Warehouse Country', 'Shipment Year', 'Shipment Month', 'Shipment Day',\n",
              "       'Shipment Mode', 'Shipment Days - Scheduled', 'Gross Sales',\n",
              "       'Discount %', 'Profit'],\n",
              "      dtype='object')"
            ]
          },
          "execution_count": 22,
          "metadata": {},
          "output_type": "execute_result"
        }
      ],
      "source": [
        "df_orders.columns"
      ]
    },
    {
      "cell_type": "code",
      "execution_count": 23,
      "metadata": {
        "colab": {
          "base_uri": "https://localhost:8080/"
        },
        "id": "CDsRQ3bbFbmv",
        "outputId": "d3854f26-c554-4e74-de0f-03f7460f8c05"
      },
      "outputs": [
        {
          "data": {
            "text/plain": [
              "25433     0.04\n",
              "15461     0.25\n",
              "29154     0.18\n",
              "29730     0.06\n",
              "17482      0.1\n",
              "9390      0.17\n",
              "5523      0.03\n",
              "5040      0.02\n",
              "7370      0.09\n",
              "27597     0.18\n",
              "26563     0.09\n",
              "22357     0.16\n",
              "27098     0.02\n",
              "10383      0.2\n",
              "13807     0.01\n",
              "27633     0.16\n",
              "7406      0.09\n",
              "1090      0.01\n",
              "29330     0.01\n",
              "4066      0.16\n",
              "7845      0.01\n",
              "24944     0.04\n",
              "22342     0.03\n",
              "10983     0.13\n",
              "26019      0.1\n",
              "14723     0.12\n",
              "19265     0.05\n",
              "992        0.1\n",
              "7061      0.15\n",
              "19036      -  \n",
              "Name: Discount %, dtype: object"
            ]
          },
          "execution_count": 23,
          "metadata": {},
          "output_type": "execute_result"
        }
      ],
      "source": [
        "df_orders['Discount %'].sample(30)"
      ]
    },
    {
      "cell_type": "markdown",
      "metadata": {
        "id": "TdTfQswn3dVp"
      },
      "source": [
        "Based on above data, there are some rows with - values. Need to replace this - values with 0. In odrer to read this data properly."
      ]
    },
    {
      "cell_type": "code",
      "execution_count": 24,
      "metadata": {
        "id": "sD82QbdlnLxK"
      },
      "outputs": [],
      "source": [
        "# Convert the '-' values to 0 in the 'Discount %' column and then change the data type from object to float\n",
        "df_orders['Discount %'] = df_orders['Discount %'].replace('  -  ', 0).astype(float)"
      ]
    },
    {
      "cell_type": "code",
      "execution_count": 25,
      "metadata": {
        "colab": {
          "base_uri": "https://localhost:8080/"
        },
        "id": "hEquwTd44fJq",
        "outputId": "5151a342-f3c0-4a40-c5da-c43680edfa27"
      },
      "outputs": [
        {
          "data": {
            "text/plain": [
              "Index(['Order ID', 'Order Item ID', 'Order YearMonth', 'Order Year',\n",
              "       'Order Month', 'Order Day', 'Order Time', 'Order Quantity',\n",
              "       'Product Department', 'Product Category', 'Product Name', 'Customer ID',\n",
              "       'Customer Market', 'Customer Region', 'Customer Country',\n",
              "       'Warehouse Country', 'Shipment Year', 'Shipment Month', 'Shipment Day',\n",
              "       'Shipment Mode', 'Shipment Days - Scheduled', 'Gross Sales',\n",
              "       'Discount %', 'Profit'],\n",
              "      dtype='object')"
            ]
          },
          "execution_count": 25,
          "metadata": {},
          "output_type": "execute_result"
        }
      ],
      "source": [
        "df_orders.columns"
      ]
    },
    {
      "cell_type": "markdown",
      "metadata": {
        "id": "Tfs-hGuCzr2w"
      },
      "source": [
        "## Feature Engineering :\n",
        "Order Datetime & Shipment Datetime"
      ]
    },
    {
      "cell_type": "markdown",
      "metadata": {
        "id": "fyTxiUIzQxH9"
      },
      "source": [
        "Due to the data being separated into multiple columns for year, month, day, and time, resulting in a large number of columns, I have decided to combine these columns into a single column that includes all the necessary date and time information. This will help simplify the data and make it more manageable for further analysis in Tableau."
      ]
    },
    {
      "cell_type": "code",
      "execution_count": 26,
      "metadata": {
        "colab": {
          "base_uri": "https://localhost:8080/",
          "height": 206
        },
        "id": "ATaHLaf2gSKs",
        "outputId": "cd9ec855-efa8-406f-8d79-0439025cbc42"
      },
      "outputs": [
        {
          "data": {
            "text/html": [
              "<div>\n",
              "<style scoped>\n",
              "    .dataframe tbody tr th:only-of-type {\n",
              "        vertical-align: middle;\n",
              "    }\n",
              "\n",
              "    .dataframe tbody tr th {\n",
              "        vertical-align: top;\n",
              "    }\n",
              "\n",
              "    .dataframe thead th {\n",
              "        text-align: right;\n",
              "    }\n",
              "</style>\n",
              "<table border=\"1\" class=\"dataframe\">\n",
              "  <thead>\n",
              "    <tr style=\"text-align: right;\">\n",
              "      <th></th>\n",
              "      <th>Order Datetime</th>\n",
              "      <th>Shipment Datetime</th>\n",
              "    </tr>\n",
              "  </thead>\n",
              "  <tbody>\n",
              "    <tr>\n",
              "      <th>0</th>\n",
              "      <td>2015-02-21 14:07:00</td>\n",
              "      <td>2015-02-27</td>\n",
              "    </tr>\n",
              "    <tr>\n",
              "      <th>1</th>\n",
              "      <td>2015-03-02 07:37:00</td>\n",
              "      <td>2015-03-06</td>\n",
              "    </tr>\n",
              "    <tr>\n",
              "      <th>2</th>\n",
              "      <td>2015-04-18 22:47:00</td>\n",
              "      <td>2015-04-20</td>\n",
              "    </tr>\n",
              "    <tr>\n",
              "      <th>3</th>\n",
              "      <td>2015-06-10 22:32:00</td>\n",
              "      <td>2015-06-12</td>\n",
              "    </tr>\n",
              "    <tr>\n",
              "      <th>4</th>\n",
              "      <td>2015-06-10 22:32:00</td>\n",
              "      <td>2015-06-12</td>\n",
              "    </tr>\n",
              "  </tbody>\n",
              "</table>\n",
              "</div>"
            ],
            "text/plain": [
              "       Order Datetime Shipment Datetime\n",
              "0 2015-02-21 14:07:00        2015-02-27\n",
              "1 2015-03-02 07:37:00        2015-03-06\n",
              "2 2015-04-18 22:47:00        2015-04-20\n",
              "3 2015-06-10 22:32:00        2015-06-12\n",
              "4 2015-06-10 22:32:00        2015-06-12"
            ]
          },
          "execution_count": 26,
          "metadata": {},
          "output_type": "execute_result"
        }
      ],
      "source": [
        "# Make new columns: Order Datetime and Shipment Datetime\n",
        "df_orders['Order Datetime'] = pd.to_datetime(df_orders['Order Year'].astype(str) + '-' + df_orders['Order Month'].astype(str) + '-' + df_orders['Order Day'].astype(str) + ' ' + df_orders['Order Time'])\n",
        "df_orders['Shipment Datetime'] = pd.to_datetime(df_orders['Shipment Year'].astype(str) + '-' + df_orders['Shipment Month'].astype(str) + '-' + df_orders['Shipment Day'].astype(str))\n",
        "\n",
        "# Displaying the result\n",
        "df_orders[['Order Datetime', 'Shipment Datetime']].head()"
      ]
    },
    {
      "cell_type": "code",
      "execution_count": 27,
      "metadata": {
        "id": "QjrKvA0_wWp-"
      },
      "outputs": [],
      "source": [
        "# Drop unnecessary columns\n",
        "df_orders.drop(columns=['Order Year', 'Order Month', 'Order Day', 'Order Time',\n",
        "                        'Shipment Year', 'Shipment Month', 'Shipment Day'], inplace=True)"
      ]
    },
    {
      "cell_type": "markdown",
      "metadata": {
        "id": "RneI8jotrwI_"
      },
      "source": [
        "### Remving unwanted characters in country name"
      ]
    },
    {
      "cell_type": "code",
      "execution_count": 28,
      "metadata": {
        "colab": {
          "base_uri": "https://localhost:8080/"
        },
        "id": "fYyxYc_x4MIF",
        "outputId": "a8cdca06-1d73-4b01-8e90-ae646c4122b1"
      },
      "outputs": [
        {
          "data": {
            "text/plain": [
              "array(['Mexico', 'Brazil', 'Denmark', 'Netherlands', 'Germany', 'China',\n",
              "       'Indonesia', 'Pakistan', 'India', 'USA', 'Hungary', 'Sudan',\n",
              "       'Democratic Republic of Congo', 'Poland', 'Togo', 'Guatemala',\n",
              "       'Panama', 'Chile', 'France', 'Sweden', 'Dominican\\xa0Republic',\n",
              "       'Venezuela', 'South Korea', 'Madagascar', 'Iran', 'Cuba',\n",
              "       'Nicaragua', 'United Kingdom', 'Afghanistan', 'Singapore',\n",
              "       'Morocco', 'Spain', 'Niger', 'Turkey', 'South Africa', 'Iraq',\n",
              "       'Honduras', 'Italy', 'Australia', 'Cote d\\x92Ivoire', 'Croatia',\n",
              "       'Ecuador', 'Syria', 'Haiti', 'Bangladesh', 'Argentina', 'Romania',\n",
              "       'El Salvador', 'Vietnam', 'Japan', 'Nigeria', 'Belarus',\n",
              "       'Uzbekistan', 'Egypt', 'Albania', 'Georgia', 'Cameroon',\n",
              "       'Colombia', 'New zealand', 'Canada', 'Thailand', 'Senegal',\n",
              "       'Russia', 'Perú', 'Algeria\\xa0', 'Ukraine', 'Belgium',\n",
              "       'Philippines', 'Austria', 'Uruguay', 'Malaysia', 'Hong Kong',\n",
              "       'Saudi Arabia', 'Switzerland', 'Ireland', 'Bulgaria', 'Zambia',\n",
              "       'Jamaica', 'Ghana', 'Yemen', 'Norway', 'Tanzania', 'Kazakhstan',\n",
              "       'Libya', 'Trinidad and Tobago', 'Finland', 'Portugal', 'Kenya',\n",
              "       'Jordania', 'Bolivia', 'Gabon', 'Angola', 'Myanmar', 'Mali', 'UAE',\n",
              "       'Bosnia and Herzegovina', 'Guinea', 'Cambodia', 'Papua New Guinea',\n",
              "       'Rwanda', 'Israel\\xa0', 'Guyana', 'Somalia', 'Barbados',\n",
              "       'Guadalupe', 'Kyrgyzstan', 'Benín', 'Tunisia', 'Lithuania',\n",
              "       'Montenegro', 'Costa Rica', 'Mozambique', 'Sri Lanka', 'Taiwan',\n",
              "       'Czech Republic (Czechia)', 'Lesotho', 'Mongolia', 'Macedonia',\n",
              "       'Zimbabwe', 'Liberia', 'Liban', 'Guinea-Bissau', 'Estonia',\n",
              "       'Azerbaijan', 'Moldova', 'Republic of Congo', 'Gambia',\n",
              "       'Mauritania', 'Belize', 'Qatar', 'Sierra Leona', 'Slovakia',\n",
              "       'Martinique', 'Uganda', 'Namibia', 'Paraguay', 'Oman',\n",
              "       'French Guiana', 'Nepal'], dtype=object)"
            ]
          },
          "execution_count": 28,
          "metadata": {},
          "output_type": "execute_result"
        }
      ],
      "source": [
        "df_orders['Customer Country'].unique()"
      ]
    },
    {
      "cell_type": "code",
      "execution_count": 29,
      "metadata": {
        "colab": {
          "base_uri": "https://localhost:8080/"
        },
        "id": "mCUPxlQe5P61",
        "outputId": "396da81c-cc14-41f7-c0e6-d27533438d40"
      },
      "outputs": [
        {
          "data": {
            "text/plain": [
              "array(['Mexico', 'Brazil', 'Denmark', 'Netherlands', 'Germany', 'China',\n",
              "       'Indonesia', 'Pakistan', 'India', 'USA', 'Hungary', 'Sudan',\n",
              "       'Democratic Republic of Congo', 'Poland', 'Togo', 'Guatemala',\n",
              "       'Panama', 'Chile', 'France', 'Sweden', 'Dominican Republic',\n",
              "       'Venezuela', 'South Korea', 'Madagascar', 'Iran', 'Cuba',\n",
              "       'Nicaragua', 'United Kingdom', 'Afghanistan', 'Singapore',\n",
              "       'Morocco', 'Spain', 'Niger', 'Turkey', 'South Africa', 'Iraq',\n",
              "       'Honduras', 'Italy', 'Australia', 'Cote d Ivoire', 'Croatia',\n",
              "       'Ecuador', 'Syria', 'Haiti', 'Bangladesh', 'Argentina', 'Romania',\n",
              "       'El Salvador', 'Vietnam', 'Japan', 'Nigeria', 'Belarus',\n",
              "       'Uzbekistan', 'Egypt', 'Albania', 'Georgia', 'Cameroon',\n",
              "       'Colombia', 'New zealand', 'Canada', 'Thailand', 'Senegal',\n",
              "       'Russia', 'Peru', 'Algeria', 'Ukraine', 'Belgium', 'Philippines',\n",
              "       'Austria', 'Uruguay', 'Malaysia', 'Hong Kong', 'Saudi Arabia',\n",
              "       'Switzerland', 'Ireland', 'Bulgaria', 'Zambia', 'Jamaica', 'Ghana',\n",
              "       'Yemen', 'Norway', 'Tanzania', 'Kazakhstan', 'Libya',\n",
              "       'Trinidad and Tobago', 'Finland', 'Portugal', 'Kenya', 'Jordania',\n",
              "       'Bolivia', 'Gabon', 'Angola', 'Myanmar', 'Mali', 'UAE',\n",
              "       'Bosnia and Herzegovina', 'Guinea', 'Cambodia', 'Papua New Guinea',\n",
              "       'Rwanda', 'Israel', 'Guyana', 'Somalia', 'Barbados', 'Guadalupe',\n",
              "       'Kyrgyzstan', 'Benin', 'Tunisia', 'Lithuania', 'Montenegro',\n",
              "       'Costa Rica', 'Mozambique', 'Sri Lanka', 'Taiwan',\n",
              "       'Czech Republic (Czechia)', 'Lesotho', 'Mongolia', 'Macedonia',\n",
              "       'Zimbabwe', 'Liberia', 'Liban', 'Guinea-Bissau', 'Estonia',\n",
              "       'Azerbaijan', 'Moldova', 'Republic of Congo', 'Gambia',\n",
              "       'Mauritania', 'Belize', 'Qatar', 'Sierra Leona', 'Slovakia',\n",
              "       'Martinique', 'Uganda', 'Namibia', 'Paraguay', 'Oman',\n",
              "       'French Guiana', 'Nepal'], dtype=object)"
            ]
          },
          "execution_count": 29,
          "metadata": {},
          "output_type": "execute_result"
        }
      ],
      "source": [
        "#replace the special characters in the Customer Country column\n",
        "df_orders['Customer Country'] = df_orders['Customer Country'].replace({\n",
        "    'Dominican\\xa0Republic': 'Dominican Republic',\n",
        "    'Cote d\\x92Ivoire': 'Cote d Ivoire', # Added a comma at the end of this line\n",
        "    'Perú': 'Peru',\n",
        "    'Algeria\\xa0': 'Algeria',\n",
        "    'Israel\\xa0':'Israel',\n",
        "    'Benín': 'Benin'\n",
        "})\n",
        "df_orders['Customer Country'].unique()"
      ]
    },
    {
      "cell_type": "code",
      "execution_count": 26,
      "metadata": {
        "id": "glDUdGmv5K3A"
      },
      "outputs": [],
      "source": []
    },
    {
      "cell_type": "markdown",
      "metadata": {
        "id": "yNB5-AE47aH1"
      },
      "source": [
        "# Data Manipulation"
      ]
    },
    {
      "cell_type": "markdown",
      "metadata": {
        "id": "y8BkcrKoUUgr"
      },
      "source": [
        "## Order Processing Time"
      ]
    },
    {
      "cell_type": "markdown",
      "metadata": {
        "id": "Z_EXFFcLUW-S"
      },
      "source": [
        "The \"`Order Processing Time`\" is obtained by subtracting the \"`Order Datetime`\" from the \"`Shipment Datetime`\".\n",
        "\n",
        "It measures the time taken for the order to move through various stages, including **processing, packing, and delivery preparation**, until it is ready for shipment.\n",
        "\n",
        "This metric helps us understand how quickly we can fulfill customer orders and deliver products to their destination."
      ]
    },
    {
      "cell_type": "code",
      "execution_count": 30,
      "metadata": {
        "colab": {
          "base_uri": "https://localhost:8080/",
          "height": 591
        },
        "id": "VGJlkQVoUZFl",
        "outputId": "b804d17a-bb2a-4c6c-d41f-f6403f4b899d"
      },
      "outputs": [
        {
          "data": {
            "text/html": [
              "<div>\n",
              "<style scoped>\n",
              "    .dataframe tbody tr th:only-of-type {\n",
              "        vertical-align: middle;\n",
              "    }\n",
              "\n",
              "    .dataframe tbody tr th {\n",
              "        vertical-align: top;\n",
              "    }\n",
              "\n",
              "    .dataframe thead th {\n",
              "        text-align: right;\n",
              "    }\n",
              "</style>\n",
              "<table border=\"1\" class=\"dataframe\">\n",
              "  <thead>\n",
              "    <tr style=\"text-align: right;\">\n",
              "      <th></th>\n",
              "      <th>Order ID</th>\n",
              "      <th>Order Item ID</th>\n",
              "      <th>Order YearMonth</th>\n",
              "      <th>Order Quantity</th>\n",
              "      <th>Product Department</th>\n",
              "      <th>Product Category</th>\n",
              "      <th>Product Name</th>\n",
              "      <th>Customer ID</th>\n",
              "      <th>Customer Market</th>\n",
              "      <th>Customer Region</th>\n",
              "      <th>Customer Country</th>\n",
              "      <th>Warehouse Country</th>\n",
              "      <th>Shipment Mode</th>\n",
              "      <th>Shipment Days - Scheduled</th>\n",
              "      <th>Gross Sales</th>\n",
              "      <th>Discount %</th>\n",
              "      <th>Profit</th>\n",
              "      <th>Order Datetime</th>\n",
              "      <th>Shipment Datetime</th>\n",
              "      <th>Order Processing Time</th>\n",
              "    </tr>\n",
              "  </thead>\n",
              "  <tbody>\n",
              "    <tr>\n",
              "      <th>2069</th>\n",
              "      <td>65836</td>\n",
              "      <td>164535</td>\n",
              "      <td>201708</td>\n",
              "      <td>3</td>\n",
              "      <td>Outdoors</td>\n",
              "      <td>Kids' Golf Clubs</td>\n",
              "      <td>Fitbit The One Wireless Activity &amp; Sleep Trac</td>\n",
              "      <td>11499</td>\n",
              "      <td>Europe</td>\n",
              "      <td>Western Europe</td>\n",
              "      <td>Germany</td>\n",
              "      <td>USA</td>\n",
              "      <td>Standard Class</td>\n",
              "      <td>4</td>\n",
              "      <td>300</td>\n",
              "      <td>0.10</td>\n",
              "      <td>117</td>\n",
              "      <td>2017-08-19 00:55:00</td>\n",
              "      <td>2017-08-21</td>\n",
              "      <td>1</td>\n",
              "    </tr>\n",
              "    <tr>\n",
              "      <th>21429</th>\n",
              "      <td>43511</td>\n",
              "      <td>108681</td>\n",
              "      <td>201609</td>\n",
              "      <td>4</td>\n",
              "      <td>Outdoors</td>\n",
              "      <td>Trade-In</td>\n",
              "      <td>Glove It Women's Mod Oval 3-Zip Carry All Gol</td>\n",
              "      <td>9031</td>\n",
              "      <td>Pacific Asia</td>\n",
              "      <td>West Asia</td>\n",
              "      <td>Turkey</td>\n",
              "      <td>USA</td>\n",
              "      <td>Standard Class</td>\n",
              "      <td>4</td>\n",
              "      <td>88</td>\n",
              "      <td>0.12</td>\n",
              "      <td>43</td>\n",
              "      <td>2016-09-27 03:29:00</td>\n",
              "      <td>2016-09-29</td>\n",
              "      <td>1</td>\n",
              "    </tr>\n",
              "    <tr>\n",
              "      <th>24467</th>\n",
              "      <td>55203</td>\n",
              "      <td>138063</td>\n",
              "      <td>201704</td>\n",
              "      <td>3</td>\n",
              "      <td>Golf</td>\n",
              "      <td>Women's Apparel</td>\n",
              "      <td>Nike Men's Dri-FIT Victory Golf Polo</td>\n",
              "      <td>949</td>\n",
              "      <td>LATAM</td>\n",
              "      <td>Central America</td>\n",
              "      <td>El Salvador</td>\n",
              "      <td>Puerto Rico</td>\n",
              "      <td>Standard Class</td>\n",
              "      <td>4</td>\n",
              "      <td>150</td>\n",
              "      <td>0.03</td>\n",
              "      <td>125</td>\n",
              "      <td>2017-04-26 10:01:00</td>\n",
              "      <td>2016-01-05</td>\n",
              "      <td>-478</td>\n",
              "    </tr>\n",
              "    <tr>\n",
              "      <th>20751</th>\n",
              "      <td>41991</td>\n",
              "      <td>104826</td>\n",
              "      <td>201609</td>\n",
              "      <td>1</td>\n",
              "      <td>Apparel</td>\n",
              "      <td>Men's Footwear</td>\n",
              "      <td>Nike Men's CJ Elite 2 TD Football Cleat</td>\n",
              "      <td>9163</td>\n",
              "      <td>Africa</td>\n",
              "      <td>North Africa</td>\n",
              "      <td>Morocco</td>\n",
              "      <td>USA</td>\n",
              "      <td>Standard Class</td>\n",
              "      <td>4</td>\n",
              "      <td>130</td>\n",
              "      <td>0.20</td>\n",
              "      <td>65</td>\n",
              "      <td>2016-09-04 22:58:00</td>\n",
              "      <td>2016-09-06</td>\n",
              "      <td>1</td>\n",
              "    </tr>\n",
              "    <tr>\n",
              "      <th>18726</th>\n",
              "      <td>23208</td>\n",
              "      <td>58106</td>\n",
              "      <td>201512</td>\n",
              "      <td>1</td>\n",
              "      <td>Fan Shop</td>\n",
              "      <td>Indoor/Outdoor Games</td>\n",
              "      <td>O'Brien Men's Neoprene Life Vest</td>\n",
              "      <td>1010</td>\n",
              "      <td>Pacific Asia</td>\n",
              "      <td>Oceania</td>\n",
              "      <td>Australia</td>\n",
              "      <td>USA</td>\n",
              "      <td>Standard Class</td>\n",
              "      <td>4</td>\n",
              "      <td>50</td>\n",
              "      <td>0.05</td>\n",
              "      <td>125</td>\n",
              "      <td>2015-12-05 18:26:00</td>\n",
              "      <td>2016-01-16</td>\n",
              "      <td>41</td>\n",
              "    </tr>\n",
              "  </tbody>\n",
              "</table>\n",
              "</div>"
            ],
            "text/plain": [
              "       Order ID  Order Item ID  Order YearMonth  Order Quantity  \\\n",
              "2069      65836         164535           201708               3   \n",
              "21429     43511         108681           201609               4   \n",
              "24467     55203         138063           201704               3   \n",
              "20751     41991         104826           201609               1   \n",
              "18726     23208          58106           201512               1   \n",
              "\n",
              "      Product Department      Product Category  \\\n",
              "2069            Outdoors      Kids' Golf Clubs   \n",
              "21429           Outdoors              Trade-In   \n",
              "24467               Golf       Women's Apparel   \n",
              "20751            Apparel        Men's Footwear   \n",
              "18726           Fan Shop  Indoor/Outdoor Games   \n",
              "\n",
              "                                        Product Name  Customer ID  \\\n",
              "2069   Fitbit The One Wireless Activity & Sleep Trac        11499   \n",
              "21429  Glove It Women's Mod Oval 3-Zip Carry All Gol         9031   \n",
              "24467           Nike Men's Dri-FIT Victory Golf Polo          949   \n",
              "20751        Nike Men's CJ Elite 2 TD Football Cleat         9163   \n",
              "18726               O'Brien Men's Neoprene Life Vest         1010   \n",
              "\n",
              "      Customer Market  Customer Region Customer Country Warehouse Country  \\\n",
              "2069           Europe   Western Europe          Germany               USA   \n",
              "21429    Pacific Asia        West Asia           Turkey               USA   \n",
              "24467           LATAM  Central America      El Salvador       Puerto Rico   \n",
              "20751          Africa     North Africa          Morocco               USA   \n",
              "18726    Pacific Asia          Oceania        Australia               USA   \n",
              "\n",
              "        Shipment Mode  Shipment Days - Scheduled  Gross Sales  Discount %  \\\n",
              "2069   Standard Class                          4          300        0.10   \n",
              "21429  Standard Class                          4           88        0.12   \n",
              "24467  Standard Class                          4          150        0.03   \n",
              "20751  Standard Class                          4          130        0.20   \n",
              "18726  Standard Class                          4           50        0.05   \n",
              "\n",
              "       Profit      Order Datetime Shipment Datetime  Order Processing Time  \n",
              "2069      117 2017-08-19 00:55:00        2017-08-21                      1  \n",
              "21429      43 2016-09-27 03:29:00        2016-09-29                      1  \n",
              "24467     125 2017-04-26 10:01:00        2016-01-05                   -478  \n",
              "20751      65 2016-09-04 22:58:00        2016-09-06                      1  \n",
              "18726     125 2015-12-05 18:26:00        2016-01-16                     41  "
            ]
          },
          "execution_count": 30,
          "metadata": {},
          "output_type": "execute_result"
        }
      ],
      "source": [
        "df_orders['Order Processing Time'] = (df_orders['Shipment Datetime'] - df_orders['Order Datetime']).dt.days\n",
        "df_orders['Order Processing Time'] = df_orders['Order Processing Time'].apply(lambda x: 0 if x == -1 else x)\n",
        "\n",
        "df_orders.sample(5)"
      ]
    },
    {
      "cell_type": "markdown",
      "metadata": {
        "id": "euTLZwEgUbKL"
      },
      "source": [
        "The presence of timestamps in the order of dates provides more accurate and detailed information about the time intervals between events. However, when calculating \"`Order Processing Time`\" using a timestamp, it can result in a negative value of 1 on same-day shipping as the order, because the shipping date does not have a timestamp, which is why the default timestamp of 00:00:00 is used.\n",
        "\n",
        "To address this issue, we implemented a `lambda` function to set a negative value of 1 to 0, ensuring the calculated duration is not negative and meaningful for analysis. This approach allows us to gain valuable insights into the efficiency of the shipping process and delivery time, taking into account the time-sensitive nature of the data."
      ]
    },
    {
      "cell_type": "markdown",
      "metadata": {
        "id": "5ezj5FwLjSYD"
      },
      "source": [
        "## Feature Metrics\n",
        "The feature metrics that planning to create in tableau which helps to further analyze inventory management, Shipement delay and many more."
      ]
    },
    {
      "cell_type": "markdown",
      "metadata": {
        "id": "Hn9rYugrm-WM"
      },
      "source": [
        "### Total Inventory Storage Cost"
      ]
    },
    {
      "cell_type": "markdown",
      "metadata": {
        "id": "YDeednbU55A6"
      },
      "source": [
        "Total Cost of Inventory is a significant financial metric in supply chain management that calculates the overall cost associated with holding and managing inventory.\n",
        "\n",
        "The formula for calculating Total Inventory Cost is: `Warehouse Inventory` times `Inventory Cost per Unit`."
      ]
    },
    {
      "cell_type": "markdown",
      "metadata": {
        "id": "hSwKZMWNj2wL"
      },
      "source": [
        "#### Storage Cost\n",
        "Storage_Cost = [Inventory Cost Per Unit]*[Warehouse Inventory]"
      ]
    },
    {
      "cell_type": "markdown",
      "metadata": {
        "id": "sVCg1S36sBdy"
      },
      "source": [
        "### Shipment Delay"
      ]
    },
    {
      "cell_type": "markdown",
      "metadata": {
        "id": "f_NaVtiQ6SOd"
      },
      "source": [
        "Shipment Delay is a metric that measures the time difference between the expected shipment date and the actual date that the order is delivered to the customer. This helps identify and measure the efficiency and reliability of the shipping processes.\n",
        "\n",
        "The calculation of Shipment Delay involves comparing the `Shipment Days - Actual` (actual date the order is shipped) with the `Shipment Days - Scheduled` (the expected or planned date of shipment)."
      ]
    },
    {
      "cell_type": "markdown",
      "metadata": {
        "id": "Wa3ROJ6uj93g"
      },
      "source": [
        "#### Shipment Delay in Days\n",
        "Shipment Delay  = [Shipment Days - Actual] - ['Shipment Days - Scheduled']"
      ]
    },
    {
      "cell_type": "markdown",
      "metadata": {
        "id": "vYh_rJSlk3bV"
      },
      "source": [
        "### Profit Margin"
      ]
    },
    {
      "cell_type": "markdown",
      "metadata": {
        "id": "b3SmibnYk8or"
      },
      "source": [
        "Profit Margin helps to assessing the profitability of the supply chain operations. It provides insights into the effectiveness of cost control and pricing strategies, enabling organizations to make adjustments to enhance overall profitability."
      ]
    },
    {
      "cell_type": "markdown",
      "metadata": {
        "id": "9qJJg2DklGiR"
      },
      "source": [
        "Profit Margin : Total Profit / Total Gross Sales *100"
      ]
    },
    {
      "cell_type": "markdown",
      "metadata": {
        "id": "tXT4pXajlhEj"
      },
      "source": [
        "### Inventory to Sales Delta"
      ]
    },
    {
      "cell_type": "markdown",
      "metadata": {
        "id": "SeXT1Zw_lpGL"
      },
      "source": [
        "This is metric which indicating how efficiently inventory is managed and whether there may be overstocking or understocking issues, allowing for more informed decisions to optimize inventory levels."
      ]
    },
    {
      "cell_type": "markdown",
      "metadata": {
        "id": "7KpCavDOmdo5"
      },
      "source": [
        "Inventory to Sales Delta = Total Warehouse Inventory - Total Order Quantity"
      ]
    },
    {
      "cell_type": "markdown",
      "metadata": {
        "id": "lAEYNcPLlpN3"
      },
      "source": [
        "### Under or Overstock\n",
        "\n",
        "Under or Overstock helps to find which products are Overstock and which are understock.\n",
        "And it helps to the balance of inventory."
      ]
    },
    {
      "cell_type": "markdown",
      "metadata": {
        "id": "2AwoqVKslUqb"
      },
      "source": [
        "Under or Overstock = Inventory to Sales Delta >0 THEN 'Overstock'\n",
        "ELSE 'Understock'"
      ]
    },
    {
      "cell_type": "markdown",
      "metadata": {
        "id": "AS_tFP1ZfsQ8"
      },
      "source": [
        "# Data Exporting & Conclusion"
      ]
    },
    {
      "cell_type": "code",
      "execution_count": 31,
      "metadata": {
        "colab": {
          "base_uri": "https://localhost:8080/"
        },
        "id": "N9-2S0_YXRKl",
        "outputId": "6a24f436-23d6-4535-f961-3d53cef4b7ad"
      },
      "outputs": [
        {
          "name": "stdout",
          "output_type": "stream",
          "text": [
            "<class 'pandas.core.frame.DataFrame'>\n",
            "RangeIndex: 30871 entries, 0 to 30870\n",
            "Data columns (total 20 columns):\n",
            " #   Column                     Non-Null Count  Dtype         \n",
            "---  ------                     --------------  -----         \n",
            " 0   Order ID                   30871 non-null  int64         \n",
            " 1   Order Item ID              30871 non-null  int64         \n",
            " 2   Order YearMonth            30871 non-null  int64         \n",
            " 3   Order Quantity             30871 non-null  int64         \n",
            " 4   Product Department         30871 non-null  object        \n",
            " 5   Product Category           30871 non-null  object        \n",
            " 6   Product Name               30871 non-null  object        \n",
            " 7   Customer ID                30871 non-null  int64         \n",
            " 8   Customer Market            30871 non-null  object        \n",
            " 9   Customer Region            30871 non-null  object        \n",
            " 10  Customer Country           30871 non-null  object        \n",
            " 11  Warehouse Country          30871 non-null  object        \n",
            " 12  Shipment Mode              30871 non-null  object        \n",
            " 13  Shipment Days - Scheduled  30871 non-null  int64         \n",
            " 14  Gross Sales                30871 non-null  int64         \n",
            " 15  Discount %                 30871 non-null  float64       \n",
            " 16  Profit                     30871 non-null  int64         \n",
            " 17  Order Datetime             30871 non-null  datetime64[ns]\n",
            " 18  Shipment Datetime          30871 non-null  datetime64[ns]\n",
            " 19  Order Processing Time      30871 non-null  int64         \n",
            "dtypes: datetime64[ns](2), float64(1), int64(9), object(8)\n",
            "memory usage: 4.7+ MB\n"
          ]
        }
      ],
      "source": [
        "# Final Check\n",
        "df_orders.info()"
      ]
    },
    {
      "cell_type": "code",
      "execution_count": 32,
      "metadata": {
        "colab": {
          "base_uri": "https://localhost:8080/"
        },
        "id": "7pdjD6f8jeoB",
        "outputId": "33fb2152-e446-4972-f7a4-ff1bede644eb"
      },
      "outputs": [
        {
          "name": "stdout",
          "output_type": "stream",
          "text": [
            "<class 'pandas.core.frame.DataFrame'>\n",
            "RangeIndex: 4200 entries, 0 to 4199\n",
            "Data columns (total 4 columns):\n",
            " #   Column                   Non-Null Count  Dtype  \n",
            "---  ------                   --------------  -----  \n",
            " 0   Product Name             4200 non-null   object \n",
            " 1   Year Month               4200 non-null   int64  \n",
            " 2   Warehouse Inventory      4200 non-null   int64  \n",
            " 3   Inventory Cost Per Unit  4200 non-null   float64\n",
            "dtypes: float64(1), int64(2), object(1)\n",
            "memory usage: 131.4+ KB\n"
          ]
        }
      ],
      "source": [
        "df_inventory.info()"
      ]
    },
    {
      "cell_type": "code",
      "execution_count": 33,
      "metadata": {
        "colab": {
          "base_uri": "https://localhost:8080/"
        },
        "id": "374lXBTtlOhD",
        "outputId": "24b1b8d6-8aad-4646-80b0-f48bd8bf4ade"
      },
      "outputs": [
        {
          "name": "stdout",
          "output_type": "stream",
          "text": [
            "<class 'pandas.core.frame.DataFrame'>\n",
            "RangeIndex: 118 entries, 0 to 117\n",
            "Data columns (total 2 columns):\n",
            " #   Column                              Non-Null Count  Dtype  \n",
            "---  ------                              --------------  -----  \n",
            " 0   Product Name                        118 non-null    object \n",
            " 1   Warehouse Order Fulfillment (days)  118 non-null    float64\n",
            "dtypes: float64(1), object(1)\n",
            "memory usage: 2.0+ KB\n"
          ]
        }
      ],
      "source": [
        "df_fulfillment.info()"
      ]
    },
    {
      "cell_type": "markdown",
      "metadata": {
        "id": "v7hZMiP4gZff"
      },
      "source": [
        "## Exporting Cleaned Data"
      ]
    },
    {
      "cell_type": "markdown",
      "metadata": {
        "id": "tEW-ylTagwud"
      },
      "source": [
        "Save the cleaned and processed DataFrames to a csv file for further visualization and analysis in tableau."
      ]
    },
    {
      "cell_type": "code",
      "execution_count": 34,
      "metadata": {
        "id": "dQiTclOuhO3n"
      },
      "outputs": [],
      "source": [
        "# Export DataFrames to CSV\n",
        "df_orders.to_csv('orders_and_shipment.csv', index=False)\n",
        "df_inventory.to_csv('inventory.csv', index=False)\n",
        "df_fulfillment.to_csv('fulfillment.csv', index=False)"
      ]
    },
    {
      "cell_type": "markdown",
      "metadata": {
        "id": "GeiUwOAxhs2N"
      },
      "source": [
        "## Conclusion"
      ]
    },
    {
      "cell_type": "markdown",
      "metadata": {
        "id": "dgcYSQsjhuvj"
      },
      "source": [
        "Through this analysis, we successfully explored and performed data cleaning on the `df_orders` and `df_inventory` DataFrames. Important metrics such as `Profit Margin`, `Inventory to Sales Delta`, `Storage Cost`, and `Shipment Delay` will be calculated in tableau to understand inventory performance and supply chain efficiency for the company.\n",
        "\n",
        "Additionally, we removed some anomalous data points that could impact the analysis results. The cleaned and processed data will be exported to a csv file for further analysis and visualization in Tableau.\n"
      ]
    },
    {
      "cell_type": "markdown",
      "metadata": {
        "id": "QN2W_LLMnPbZ"
      },
      "source": [
        "# Closing"
      ]
    },
    {
      "cell_type": "markdown",
      "metadata": {
        "id": "blJBMihMnTeg"
      },
      "source": [
        "As an aspiring data engineer/data analyst, I will consistently look for opportunities to improve my skills and insights.Thank you so much.\n",
        "\n",
        "This analysis was conducted as part of a competition organized by DataCamp, with the aim of demonstrating data analytics expertise and providing actionable insights to address real-world business challenges. Throughout this process, I strive to use effective data processing, data cleaning, and advanced analytics techniques to generate meaningful conclusions and support decision making."
      ]
    },
    {
      "cell_type": "code",
      "execution_count": 31,
      "metadata": {
        "id": "ujoJiD3I6-yH"
      },
      "outputs": [],
      "source": []
    }
  ],
  "metadata": {
    "colab": {
      "provenance": []
    },
    "kernelspec": {
      "display_name": "Python 3",
      "name": "python3"
    },
    "language_info": {
      "codemirror_mode": {
        "name": "ipython",
        "version": 3
      },
      "file_extension": ".py",
      "mimetype": "text/x-python",
      "name": "python",
      "nbconvert_exporter": "python",
      "pygments_lexer": "ipython3",
      "version": "3.13.5"
    }
  },
  "nbformat": 4,
  "nbformat_minor": 0
}
